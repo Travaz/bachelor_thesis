{
 "cells": [
  {
   "cell_type": "markdown",
   "metadata": {},
   "source": [
    "# Credit Risk\n",
    "# Bachelor Thesis - Bocconi University \n",
    "\n",
    "## Credit risk modelling: an empirical analysis on Probability of Default (PD) estimation \n",
    "solution provided by: **Daniel Travaglia**"
   ]
  },
  {
   "cell_type": "markdown",
   "metadata": {},
   "source": [
    "## Draft of the outline of the notebook\n",
    "\n",
    "0. Prerequisites: set up the environment\n",
    "1. Introduction: frame the problem\n",
    "2. Retrieve and describe the dataset\n",
    "3. Discover and visualize data for reacher insights \n",
    "4. Data cleaning for modelling (missing values) \n",
    "5. Machine Learning Pipelines:\n",
    "    - Model (1): Logistic Regression Model\n",
    "        1. Data prepocessing and model definition\n",
    "        2. Model better evaluation using cross validation and fine-tuning model parameters using grid search\n",
    "        3. Retrieve the optimal model \n",
    "    - Model (2): Ensemble Model (Gradient Boosting)\n",
    "        1. Data preprocessing and model definition\n",
    "        2. Model better evaluation using cross validation and fine-tuning model parameters using grid search\n",
    "        3. Retrieve the optimal model\n",
    "6. Get the best model (metric comparison)\n",
    "7. Evaluate the system on the test set and plot the results\n",
    "8. Conclusions\n",
    "9. (Bonus) Further improvements"
   ]
  },
  {
   "cell_type": "markdown",
   "metadata": {},
   "source": [
    "## TODO\n",
    "1) [DONE] Restructure the notebook and retrieve the final index!\n",
    "\n",
    "2) [TODO -> Today] Explanatory analysis + Give appropriate introduction and description\n",
    "\n",
    "3) [TODO -> Today/Tomorrow] Calibration of default probability: since we do not have time-series data, we could actually calibrate default probabilities per-group: group by ratings and then by whether the client defaulted or not. At this point, estimate the probability of defaulting (modelling using a Bernoulli RV then) by calculating the proportion of defaulted clients out of the total clients for that specific rating \n",
    "\n",
    "4) [TODO -> Tomorrow] -> Provide a high-level overview of the credit risk world, with a particular attention in being able to introduce the topic in an understandable manner!\n",
    "\n",
    "5) [TODO -> Today] -> injecting interest rates (missings) based on the information provided by ratings (random sampling between min-max of int. rates for a specific ranking)"
   ]
  },
  {
   "cell_type": "markdown",
   "metadata": {},
   "source": [
    "# (0) Set up the environment\n",
    "\n",
    "In this section we will retrieve all the required libraries and the set up in order to be able to properly read the data"
   ]
  },
  {
   "cell_type": "markdown",
   "metadata": {},
   "source": [
    "### (0.1) Retrieving libraries"
   ]
  },
  {
   "cell_type": "code",
   "execution_count": 8,
   "metadata": {},
   "outputs": [],
   "source": [
    "# Data manipulation ML libraries\n",
    "import numpy as np \n",
    "import pandas as pd\n",
    "\n",
    "# visualization libraries\n",
    "import matplotlib.pyplot as plt\n",
    "import seaborn as sns\n",
    "import plotly \n",
    "\n",
    "# database libraries\n",
    "import pyodbc                       \n",
    "\n",
    "# graphic settings\n",
    "# Make things work smoother for plots\n",
    "%matplotlib inline\n",
    "# Se the backend of plotting to matplotlib\n",
    "pd.options.plotting.backend = 'matplotlib'\n",
    "# Change the style of seaborn graphs\n",
    "sns.set_style(\"white\")\n",
    "sns.set_palette(\"Blues\")"
   ]
  },
  {
   "cell_type": "markdown",
   "metadata": {},
   "source": [
    "### (0.1) Loading data settings"
   ]
  },
  {
   "cell_type": "code",
   "execution_count": 9,
   "metadata": {},
   "outputs": [],
   "source": [
    "## CSV\n",
    "# Counterparty data path\n",
    "cp_path = \"data\\counterparty.csv\"\n",
    "# Counterparty loans data path\n",
    "cp_loans_path = \"data\\counterparty_loans.csv\""
   ]
  },
  {
   "cell_type": "code",
   "execution_count": 10,
   "metadata": {},
   "outputs": [],
   "source": [
    "## SQL Server\n",
    "\n",
    "# # Defining connection string\n",
    "# driver = \"{SQL Server}\"\n",
    "# server = \"DESKTOP-KI4LIGE\" # retrieve this in SQL by typing @@SERVERNAME\n",
    "# database = \"Thesis\"\n",
    "# connection = \"yes\"\n",
    "# conn_string = f\"Driver={driver};Server={server};Database={database};Trusted_Connection={connection}\"\n",
    "\n",
    "# # Defining connection string\n",
    "# conn = pyodbc.connect(conn_string)\n",
    "\n",
    "# # Defining query to extract data from tables\n",
    "# sql_cp_query = \"\"\"\n",
    "#     SELECT * \n",
    "#     FROM dbo.Counterparty\n",
    "# \"\"\"\n",
    "# sql_cp_loans_query = \"\"\"\n",
    "#     SELECT *\n",
    "#     FROM dbo.Counterparty_loan\n",
    "# \"\"\""
   ]
  },
  {
   "cell_type": "code",
   "execution_count": 11,
   "metadata": {},
   "outputs": [],
   "source": [
    "# MongoDB"
   ]
  },
  {
   "cell_type": "markdown",
   "metadata": {},
   "source": [
    "# (1) Introduction: frame the problem\n",
    "\n",
    "[TODO]: Provide a high-level description of what is credit risk modelling, what characterize it and how this activity is usually done in financial istitutions. Particular attention on PD, EAD and LGD."
   ]
  },
  {
   "cell_type": "markdown",
   "metadata": {},
   "source": [
    "# (2) Retrieve and describe the dataset\n",
    "\n",
    "In this section we will use the options defined above to pull the data from the source and provide a high-level overview and description of the data used for the analysis\n"
   ]
  },
  {
   "cell_type": "markdown",
   "metadata": {},
   "source": [
    "## (2.1) Loading the datasets\n",
    "\n",
    "The data are spread across 2 different tables:\n",
    "\n",
    "* Counterparty: contains all the information on the counterparties that were granted with a loan \n",
    "* Counterparty_loans: contains all the information related to the granted loans."
   ]
  },
  {
   "cell_type": "markdown",
   "metadata": {},
   "source": [
    "### (2.1.1) Retrieving data from CSV"
   ]
  },
  {
   "cell_type": "code",
   "execution_count": 16,
   "metadata": {},
   "outputs": [],
   "source": [
    "# Retrieving counterparty data\n",
    "df_cp = pd.read_csv(cp_path)\n",
    "# Retrieving counterparty loans data\n",
    "df_cp_loans = pd.read_csv(cp_loans_path)\n",
    "\n",
    "# make sure the file is loaded\n",
    "assert not (df_cp.empty and df_cp_loans.empty)"
   ]
  },
  {
   "cell_type": "markdown",
   "metadata": {},
   "source": [
    "### (2.1.2) Retrieving data from SQL server"
   ]
  },
  {
   "cell_type": "code",
   "execution_count": 17,
   "metadata": {},
   "outputs": [],
   "source": [
    "# # Injecting data into pandas DateFrame\n",
    "# df_cp = pd.read_sql(sql_cp_query,conn)\n",
    "# df_cp_loans = pd.read_sql(sql_cp_loans_query,conn)\n",
    "\n",
    "# # Inspecting whether we have indeed extract something out of the SQL server\n",
    "# assert not (df_cp.empty or df_cp_loans.empty)"
   ]
  },
  {
   "cell_type": "markdown",
   "metadata": {},
   "source": [
    "### (2.1.3) Retrieving data from MongoDB server"
   ]
  },
  {
   "cell_type": "markdown",
   "metadata": {},
   "source": [
    "## (2.2) Dataset exploration\n",
    "\n",
    "We will first dig into the counterparty table, and then we will proceed by analyzing also the loans. Eventally, we will merge the two tables to get a comprehensive overview of the customer and the related loan and in order to extract further useful information"
   ]
  },
  {
   "cell_type": "markdown",
   "metadata": {},
   "source": [
    "### (2.1.1) Counterparties dataset"
   ]
  },
  {
   "cell_type": "code",
   "execution_count": 15,
   "metadata": {},
   "outputs": [
    {
     "output_type": "execute_result",
     "data": {
      "text/plain": "(32581, 7)"
     },
     "metadata": {},
     "execution_count": 15
    }
   ],
   "source": [
    "df_cp.shape"
   ]
  },
  {
   "cell_type": "markdown",
   "metadata": {},
   "source": [
    "The counterparty dataset contains 32581 observations, each of which represents a specific counterparty. Each observation is then described by 7 different features. Let's now dig a little bit more to discover what type of information we have on the counterparties"
   ]
  },
  {
   "cell_type": "code",
   "execution_count": 18,
   "metadata": {
    "tags": []
   },
   "outputs": [
    {
     "output_type": "stream",
     "name": "stdout",
     "text": "<class 'pandas.core.frame.DataFrame'>\nRangeIndex: 32581 entries, 0 to 32580\nData columns (total 7 columns):\n #   Column                      Non-Null Count  Dtype  \n---  ------                      --------------  -----  \n 0   id_cp                       32581 non-null  int64  \n 1   cp_age                      32581 non-null  int64  \n 2   cp_income                   32581 non-null  int64  \n 3   cp_home_ownership           32581 non-null  object \n 4   cp_emp_length               31686 non-null  float64\n 5   cp_person_default_on_file   32581 non-null  object \n 6   cp_person_cred_hist_length  32581 non-null  int64  \ndtypes: float64(1), int64(4), object(2)\nmemory usage: 1.7+ MB\n"
    }
   ],
   "source": [
    "df_cp.info()"
   ]
  },
  {
   "cell_type": "markdown",
   "metadata": {},
   "source": [
    "The dataset provides the following information regarding the counterparties: \n",
    "* Age: age of the person \n",
    "* Income: personal income in $ (dollars)\n",
    "* Home ownership: whether the person owns a house or it is supplied with in other ways (RENT, MORTGAGE, or other financial instruments)\n",
    "* Employment length: how long (in years) the person has been employed\n",
    "* Person default on file: whether the person has defaulted or not in the past. \n",
    "* Credit history length: length of the credit in years till today\n",
    "\n",
    "Before proceeding, let's clarify a few things that might be useful later in the analysis:\n",
    "\n",
    "1. We can notice that some observations for \"employment length\" variable are missing: we would have to take into account this factor before proceeding modelling \n",
    "\n",
    "2. We want to transform some variables (e.g. home ownership and person default on file) into categorical features. This is going to simplify our analysis and it will be relevant for modelling purposes.\n",
    "\n",
    "Let's now get a sense of how the dataset looks like by printing few observations"
   ]
  },
  {
   "cell_type": "code",
   "execution_count": 19,
   "metadata": {},
   "outputs": [
    {
     "output_type": "execute_result",
     "data": {
      "text/plain": "   id_cp  cp_age  cp_income cp_home_ownership  cp_emp_length  \\\n0      1      22      59000              RENT          123.0   \n1      2      21       9600               OWN            5.0   \n2      3      25       9600          MORTGAGE            1.0   \n3      4      23      65500              RENT            4.0   \n4      5      24      54400              RENT            8.0   \n\n  cp_person_default_on_file  cp_person_cred_hist_length  \n0                         Y                           3  \n1                         N                           2  \n2                         N                           3  \n3                         N                           2  \n4                         Y                           4  ",
      "text/html": "<div>\n<style scoped>\n    .dataframe tbody tr th:only-of-type {\n        vertical-align: middle;\n    }\n\n    .dataframe tbody tr th {\n        vertical-align: top;\n    }\n\n    .dataframe thead th {\n        text-align: right;\n    }\n</style>\n<table border=\"1\" class=\"dataframe\">\n  <thead>\n    <tr style=\"text-align: right;\">\n      <th></th>\n      <th>id_cp</th>\n      <th>cp_age</th>\n      <th>cp_income</th>\n      <th>cp_home_ownership</th>\n      <th>cp_emp_length</th>\n      <th>cp_person_default_on_file</th>\n      <th>cp_person_cred_hist_length</th>\n    </tr>\n  </thead>\n  <tbody>\n    <tr>\n      <th>0</th>\n      <td>1</td>\n      <td>22</td>\n      <td>59000</td>\n      <td>RENT</td>\n      <td>123.0</td>\n      <td>Y</td>\n      <td>3</td>\n    </tr>\n    <tr>\n      <th>1</th>\n      <td>2</td>\n      <td>21</td>\n      <td>9600</td>\n      <td>OWN</td>\n      <td>5.0</td>\n      <td>N</td>\n      <td>2</td>\n    </tr>\n    <tr>\n      <th>2</th>\n      <td>3</td>\n      <td>25</td>\n      <td>9600</td>\n      <td>MORTGAGE</td>\n      <td>1.0</td>\n      <td>N</td>\n      <td>3</td>\n    </tr>\n    <tr>\n      <th>3</th>\n      <td>4</td>\n      <td>23</td>\n      <td>65500</td>\n      <td>RENT</td>\n      <td>4.0</td>\n      <td>N</td>\n      <td>2</td>\n    </tr>\n    <tr>\n      <th>4</th>\n      <td>5</td>\n      <td>24</td>\n      <td>54400</td>\n      <td>RENT</td>\n      <td>8.0</td>\n      <td>Y</td>\n      <td>4</td>\n    </tr>\n  </tbody>\n</table>\n</div>"
     },
     "metadata": {},
     "execution_count": 19
    }
   ],
   "source": [
    "df_cp.head()"
   ]
  },
  {
   "cell_type": "markdown",
   "metadata": {},
   "source": [
    "Here few things stand out: \n",
    "\n",
    "* The first observation has a value for employment length that makes no sense: how could a person be employed for 123 years in the first place? And how would it be possible for a person that has 22 years? \n",
    "\n",
    "* What about the other variables? Are all the values within a proper range?\n",
    "\n",
    "The last point let us wonder whether there is some false (\"junk\") information in the data that should be eliminated before modelling. These cases can be spotted easily through a combination of having a rough idea what the variables in the dataset represent and a solid explanatory analysis of the latter. However, this might not be enough: the counterparty could provide false information to the creditor in such a way that it is easier for him to obtain the credit. This is the reason why creditors have set up specific divisions whose main task is to carefully conduct due diligence on the client (also called \"credit analysis\") before granting such credit. As we will see in the last chapter, this solve just part of the issue due to the presence of asymmetry of information in the context of credit markets."
   ]
  },
  {
   "cell_type": "code",
   "execution_count": 20,
   "metadata": {},
   "outputs": [
    {
     "output_type": "execute_result",
     "data": {
      "text/plain": "              id_cp        cp_age     cp_income  cp_emp_length  \\\ncount  32581.000000  32581.000000  3.258100e+04   31686.000000   \nmean   16291.000000     27.734600  6.607485e+04       4.789686   \nstd     9405.468897      6.348078  6.198312e+04       4.142630   \nmin        1.000000     20.000000  4.000000e+03       0.000000   \n25%     8146.000000     23.000000  3.850000e+04       2.000000   \n50%    16291.000000     26.000000  5.500000e+04       4.000000   \n75%    24436.000000     30.000000  7.920000e+04       7.000000   \nmax    32581.000000    144.000000  6.000000e+06     123.000000   \n\n       cp_person_cred_hist_length  \ncount                32581.000000  \nmean                     5.804211  \nstd                      4.055001  \nmin                      2.000000  \n25%                      3.000000  \n50%                      4.000000  \n75%                      8.000000  \nmax                     30.000000  ",
      "text/html": "<div>\n<style scoped>\n    .dataframe tbody tr th:only-of-type {\n        vertical-align: middle;\n    }\n\n    .dataframe tbody tr th {\n        vertical-align: top;\n    }\n\n    .dataframe thead th {\n        text-align: right;\n    }\n</style>\n<table border=\"1\" class=\"dataframe\">\n  <thead>\n    <tr style=\"text-align: right;\">\n      <th></th>\n      <th>id_cp</th>\n      <th>cp_age</th>\n      <th>cp_income</th>\n      <th>cp_emp_length</th>\n      <th>cp_person_cred_hist_length</th>\n    </tr>\n  </thead>\n  <tbody>\n    <tr>\n      <th>count</th>\n      <td>32581.000000</td>\n      <td>32581.000000</td>\n      <td>3.258100e+04</td>\n      <td>31686.000000</td>\n      <td>32581.000000</td>\n    </tr>\n    <tr>\n      <th>mean</th>\n      <td>16291.000000</td>\n      <td>27.734600</td>\n      <td>6.607485e+04</td>\n      <td>4.789686</td>\n      <td>5.804211</td>\n    </tr>\n    <tr>\n      <th>std</th>\n      <td>9405.468897</td>\n      <td>6.348078</td>\n      <td>6.198312e+04</td>\n      <td>4.142630</td>\n      <td>4.055001</td>\n    </tr>\n    <tr>\n      <th>min</th>\n      <td>1.000000</td>\n      <td>20.000000</td>\n      <td>4.000000e+03</td>\n      <td>0.000000</td>\n      <td>2.000000</td>\n    </tr>\n    <tr>\n      <th>25%</th>\n      <td>8146.000000</td>\n      <td>23.000000</td>\n      <td>3.850000e+04</td>\n      <td>2.000000</td>\n      <td>3.000000</td>\n    </tr>\n    <tr>\n      <th>50%</th>\n      <td>16291.000000</td>\n      <td>26.000000</td>\n      <td>5.500000e+04</td>\n      <td>4.000000</td>\n      <td>4.000000</td>\n    </tr>\n    <tr>\n      <th>75%</th>\n      <td>24436.000000</td>\n      <td>30.000000</td>\n      <td>7.920000e+04</td>\n      <td>7.000000</td>\n      <td>8.000000</td>\n    </tr>\n    <tr>\n      <th>max</th>\n      <td>32581.000000</td>\n      <td>144.000000</td>\n      <td>6.000000e+06</td>\n      <td>123.000000</td>\n      <td>30.000000</td>\n    </tr>\n  </tbody>\n</table>\n</div>"
     },
     "metadata": {},
     "execution_count": 20
    }
   ],
   "source": [
    "df_cp.describe()"
   ]
  },
  {
   "cell_type": "markdown",
   "metadata": {},
   "source": [
    "From the description above, it is easier to spot the issues we have mentioned above: the maximum employment length is 123 years and the maximum registred age for a counterparty is 144 years. This will definetely require further investigation and manipulation to obtain a dataset that we can work on. All the other numbers seem to be reasonably acceptable."
   ]
  },
  {
   "cell_type": "markdown",
   "metadata": {},
   "source": [
    "### (2.1.2) Loans dataset"
   ]
  },
  {
   "cell_type": "code",
   "execution_count": 21,
   "metadata": {},
   "outputs": [
    {
     "output_type": "execute_result",
     "data": {
      "text/plain": "(32581, 8)"
     },
     "metadata": {},
     "execution_count": 21
    }
   ],
   "source": [
    "df_cp_loans.shape"
   ]
  },
  {
   "cell_type": "markdown",
   "metadata": {},
   "source": [
    "The dataset on loans has the same number of observations as the one on counterparties. Hence, a one-to-one matching between counterparties and loans. Each loan then is described by 8 features."
   ]
  },
  {
   "cell_type": "code",
   "execution_count": 22,
   "metadata": {
    "tags": []
   },
   "outputs": [
    {
     "output_type": "stream",
     "name": "stdout",
     "text": "<class 'pandas.core.frame.DataFrame'>\nRangeIndex: 32581 entries, 0 to 32580\nData columns (total 8 columns):\n #   Column               Non-Null Count  Dtype  \n---  ------               --------------  -----  \n 0   id_loan              32581 non-null  int64  \n 1   loan_intent          32581 non-null  object \n 2   loan_grade           32581 non-null  object \n 3   loan_amount          32581 non-null  int64  \n 4   loan_int_rate        29465 non-null  float64\n 5   loan_status          32581 non-null  int64  \n 6   loan_percent_income  32581 non-null  float64\n 7   fk_cp                32581 non-null  int64  \ndtypes: float64(2), int64(4), object(2)\nmemory usage: 2.0+ MB\n"
    }
   ],
   "source": [
    "df_cp_loans.info()"
   ]
  },
  {
   "cell_type": "markdown",
   "metadata": {},
   "source": [
    "The following information on loans are provided:\n",
    "\n",
    "* Loan intent: reason declared by the counterparty to get the loan\n",
    "\n",
    "* Loan grade: the rating associated with the loan and the relative counterparty. This gives us insights of how much risky it is to grant a particular form of credit (in this case a loan) to a specific counterparty.\n",
    "\n",
    "* Loan amount: the amount of the loan that has been granted\n",
    "\n",
    "* Loan interest rate: the interest rate associated with the loan.\n",
    "\n",
    "* Loan status: whether the counterparty has defaulted on such loan or not (1 is defaulted, 0 is not). This is going to be our dependent variable: we want to estimate the probability that a customer is going to default given certain characteristics on the loans (loans dataset) and also characteristic on the counterparty itself (counterparty dataset)\n",
    "\n",
    "* Loan percent income: the proportion of the loan amount with respect to the income of the relative counterparty \n",
    "\n",
    "It seems that a huge amount of observations do not have information on the interest rate applied to the loan. Being an indicator of how risky the investment is, one possibility to get rid of these missing values could be represented by applying a map between ratings and interest rates and replace them based on a random sampling within the range of the interest rate for a specific category (i.e. loan_intent) and for the rating characterizing such loan (i.e. loan_grade). Doing so however, there is the risk of injecting biased information in the data that might lead to have bad predictiory power from the model."
   ]
  },
  {
   "cell_type": "code",
   "execution_count": 23,
   "metadata": {},
   "outputs": [
    {
     "output_type": "execute_result",
     "data": {
      "text/plain": "   id_loan loan_intent loan_grade  loan_amount  loan_int_rate  loan_status  \\\n0        1    PERSONAL          D        35000          16.02            1   \n1        2   EDUCATION          B         1000          11.14            0   \n2        3     MEDICAL          C         5500          12.87            1   \n3        4     MEDICAL          C        35000          15.23            1   \n4        5     MEDICAL          C        35000          14.27            1   \n\n   loan_percent_income  fk_cp  \n0                 0.59      1  \n1                 0.10      2  \n2                 0.57      3  \n3                 0.53      4  \n4                 0.55      5  ",
      "text/html": "<div>\n<style scoped>\n    .dataframe tbody tr th:only-of-type {\n        vertical-align: middle;\n    }\n\n    .dataframe tbody tr th {\n        vertical-align: top;\n    }\n\n    .dataframe thead th {\n        text-align: right;\n    }\n</style>\n<table border=\"1\" class=\"dataframe\">\n  <thead>\n    <tr style=\"text-align: right;\">\n      <th></th>\n      <th>id_loan</th>\n      <th>loan_intent</th>\n      <th>loan_grade</th>\n      <th>loan_amount</th>\n      <th>loan_int_rate</th>\n      <th>loan_status</th>\n      <th>loan_percent_income</th>\n      <th>fk_cp</th>\n    </tr>\n  </thead>\n  <tbody>\n    <tr>\n      <th>0</th>\n      <td>1</td>\n      <td>PERSONAL</td>\n      <td>D</td>\n      <td>35000</td>\n      <td>16.02</td>\n      <td>1</td>\n      <td>0.59</td>\n      <td>1</td>\n    </tr>\n    <tr>\n      <th>1</th>\n      <td>2</td>\n      <td>EDUCATION</td>\n      <td>B</td>\n      <td>1000</td>\n      <td>11.14</td>\n      <td>0</td>\n      <td>0.10</td>\n      <td>2</td>\n    </tr>\n    <tr>\n      <th>2</th>\n      <td>3</td>\n      <td>MEDICAL</td>\n      <td>C</td>\n      <td>5500</td>\n      <td>12.87</td>\n      <td>1</td>\n      <td>0.57</td>\n      <td>3</td>\n    </tr>\n    <tr>\n      <th>3</th>\n      <td>4</td>\n      <td>MEDICAL</td>\n      <td>C</td>\n      <td>35000</td>\n      <td>15.23</td>\n      <td>1</td>\n      <td>0.53</td>\n      <td>4</td>\n    </tr>\n    <tr>\n      <th>4</th>\n      <td>5</td>\n      <td>MEDICAL</td>\n      <td>C</td>\n      <td>35000</td>\n      <td>14.27</td>\n      <td>1</td>\n      <td>0.55</td>\n      <td>5</td>\n    </tr>\n  </tbody>\n</table>\n</div>"
     },
     "metadata": {},
     "execution_count": 23
    }
   ],
   "source": [
    "df_cp_loans.head()"
   ]
  },
  {
   "cell_type": "markdown",
   "metadata": {},
   "source": [
    "The first observations do not signal any particular concern on the data. Let's see whether this is true or not considering the dataset as a whole."
   ]
  },
  {
   "cell_type": "code",
   "execution_count": 25,
   "metadata": {},
   "outputs": [
    {
     "output_type": "execute_result",
     "data": {
      "text/plain": "            id_loan   loan_amount  loan_int_rate  loan_percent_income  \\\ncount  32581.000000  32581.000000   29465.000000         32581.000000   \nmean   16291.000000   9589.371106      11.011695             0.170203   \nstd     9405.468897   6322.086646       3.240459             0.106782   \nmin        1.000000    500.000000       5.420000             0.000000   \n25%     8146.000000   5000.000000       7.900000             0.090000   \n50%    16291.000000   8000.000000      10.990000             0.150000   \n75%    24436.000000  12200.000000      13.470000             0.230000   \nmax    32581.000000  35000.000000      23.220000             0.830000   \n\n              fk_cp  \ncount  32581.000000  \nmean   16291.000000  \nstd     9405.468897  \nmin        1.000000  \n25%     8146.000000  \n50%    16291.000000  \n75%    24436.000000  \nmax    32581.000000  ",
      "text/html": "<div>\n<style scoped>\n    .dataframe tbody tr th:only-of-type {\n        vertical-align: middle;\n    }\n\n    .dataframe tbody tr th {\n        vertical-align: top;\n    }\n\n    .dataframe thead th {\n        text-align: right;\n    }\n</style>\n<table border=\"1\" class=\"dataframe\">\n  <thead>\n    <tr style=\"text-align: right;\">\n      <th></th>\n      <th>id_loan</th>\n      <th>loan_amount</th>\n      <th>loan_int_rate</th>\n      <th>loan_percent_income</th>\n      <th>fk_cp</th>\n    </tr>\n  </thead>\n  <tbody>\n    <tr>\n      <th>count</th>\n      <td>32581.000000</td>\n      <td>32581.000000</td>\n      <td>29465.000000</td>\n      <td>32581.000000</td>\n      <td>32581.000000</td>\n    </tr>\n    <tr>\n      <th>mean</th>\n      <td>16291.000000</td>\n      <td>9589.371106</td>\n      <td>11.011695</td>\n      <td>0.170203</td>\n      <td>16291.000000</td>\n    </tr>\n    <tr>\n      <th>std</th>\n      <td>9405.468897</td>\n      <td>6322.086646</td>\n      <td>3.240459</td>\n      <td>0.106782</td>\n      <td>9405.468897</td>\n    </tr>\n    <tr>\n      <th>min</th>\n      <td>1.000000</td>\n      <td>500.000000</td>\n      <td>5.420000</td>\n      <td>0.000000</td>\n      <td>1.000000</td>\n    </tr>\n    <tr>\n      <th>25%</th>\n      <td>8146.000000</td>\n      <td>5000.000000</td>\n      <td>7.900000</td>\n      <td>0.090000</td>\n      <td>8146.000000</td>\n    </tr>\n    <tr>\n      <th>50%</th>\n      <td>16291.000000</td>\n      <td>8000.000000</td>\n      <td>10.990000</td>\n      <td>0.150000</td>\n      <td>16291.000000</td>\n    </tr>\n    <tr>\n      <th>75%</th>\n      <td>24436.000000</td>\n      <td>12200.000000</td>\n      <td>13.470000</td>\n      <td>0.230000</td>\n      <td>24436.000000</td>\n    </tr>\n    <tr>\n      <th>max</th>\n      <td>32581.000000</td>\n      <td>35000.000000</td>\n      <td>23.220000</td>\n      <td>0.830000</td>\n      <td>32581.000000</td>\n    </tr>\n  </tbody>\n</table>\n</div>"
     },
     "metadata": {},
     "execution_count": 25
    }
   ],
   "source": [
    "df_cp_loans.describe()"
   ]
  },
  {
   "cell_type": "markdown",
   "metadata": {},
   "source": [
    "All the numerical features seem reasonably within the expected range. This analysis, as well as the previous ones, should be further supported with some visualizations and statistics to provide richer insights and discover patterns in the data"
   ]
  },
  {
   "cell_type": "markdown",
   "metadata": {},
   "source": [
    "### (2.1.3) Merging the datasets\n",
    "\n",
    "In this section, we will join the dataset and clean up the data before moving into visualizations"
   ]
  },
  {
   "cell_type": "code",
   "execution_count": 47,
   "metadata": {},
   "outputs": [],
   "source": [
    "# Inner join between tables\n",
    "df = pd.merge(df_cp,df_cp_loans,how=\"inner\",left_on=\"id_cp\",right_on=\"fk_cp\")\n",
    "# make sure everything is working correctly\n",
    "assert (len(df) == len(df_cp) == len(df_cp_loans)) and (df.shape[1] == df_cp.shape[1] + df_cp_loans.shape[1])\n",
    "# Drop useless variables\n",
    "df.drop(columns=['id_cp','fk_cp','id_loan'],inplace=True)"
   ]
  },
  {
   "cell_type": "code",
   "execution_count": 48,
   "metadata": {},
   "outputs": [
    {
     "output_type": "execute_result",
     "data": {
      "text/plain": "cp_age                           int64\ncp_income                        int64\ncp_home_ownership             category\ncp_emp_length                  float64\ncp_person_default_on_file     category\ncp_person_cred_hist_length       int64\nloan_intent                   category\nloan_grade                    category\nloan_amount                      int64\nloan_int_rate                  float64\nloan_status                   category\nloan_percent_income            float64\ndtype: object"
     },
     "metadata": {},
     "execution_count": 48
    }
   ],
   "source": [
    "# Get categorical variables\n",
    "for col in ('cp_home_ownership','cp_person_default_on_file','loan_intent','loan_grade','loan_status'):\n",
    "    df[col] = pd.Categorical(df[col])\n",
    "\n",
    "# check \n",
    "df.dtypes"
   ]
  },
  {
   "cell_type": "code",
   "execution_count": 49,
   "metadata": {},
   "outputs": [
    {
     "output_type": "execute_result",
     "data": {
      "text/plain": "             cp_age     cp_income  cp_emp_length  cp_person_cred_hist_length  \\\ncount  32581.000000  3.258100e+04   31686.000000                32581.000000   \nmean      27.734600  6.607485e+04       4.789686                    5.804211   \nstd        6.348078  6.198312e+04       4.142630                    4.055001   \nmin       20.000000  4.000000e+03       0.000000                    2.000000   \n25%       23.000000  3.850000e+04       2.000000                    3.000000   \n50%       26.000000  5.500000e+04       4.000000                    4.000000   \n75%       30.000000  7.920000e+04       7.000000                    8.000000   \nmax      144.000000  6.000000e+06     123.000000                   30.000000   \n\n        loan_amount  loan_int_rate  loan_percent_income  \ncount  32581.000000   29465.000000         32581.000000  \nmean    9589.371106      11.011695             0.170203  \nstd     6322.086646       3.240459             0.106782  \nmin      500.000000       5.420000             0.000000  \n25%     5000.000000       7.900000             0.090000  \n50%     8000.000000      10.990000             0.150000  \n75%    12200.000000      13.470000             0.230000  \nmax    35000.000000      23.220000             0.830000  ",
      "text/html": "<div>\n<style scoped>\n    .dataframe tbody tr th:only-of-type {\n        vertical-align: middle;\n    }\n\n    .dataframe tbody tr th {\n        vertical-align: top;\n    }\n\n    .dataframe thead th {\n        text-align: right;\n    }\n</style>\n<table border=\"1\" class=\"dataframe\">\n  <thead>\n    <tr style=\"text-align: right;\">\n      <th></th>\n      <th>cp_age</th>\n      <th>cp_income</th>\n      <th>cp_emp_length</th>\n      <th>cp_person_cred_hist_length</th>\n      <th>loan_amount</th>\n      <th>loan_int_rate</th>\n      <th>loan_percent_income</th>\n    </tr>\n  </thead>\n  <tbody>\n    <tr>\n      <th>count</th>\n      <td>32581.000000</td>\n      <td>3.258100e+04</td>\n      <td>31686.000000</td>\n      <td>32581.000000</td>\n      <td>32581.000000</td>\n      <td>29465.000000</td>\n      <td>32581.000000</td>\n    </tr>\n    <tr>\n      <th>mean</th>\n      <td>27.734600</td>\n      <td>6.607485e+04</td>\n      <td>4.789686</td>\n      <td>5.804211</td>\n      <td>9589.371106</td>\n      <td>11.011695</td>\n      <td>0.170203</td>\n    </tr>\n    <tr>\n      <th>std</th>\n      <td>6.348078</td>\n      <td>6.198312e+04</td>\n      <td>4.142630</td>\n      <td>4.055001</td>\n      <td>6322.086646</td>\n      <td>3.240459</td>\n      <td>0.106782</td>\n    </tr>\n    <tr>\n      <th>min</th>\n      <td>20.000000</td>\n      <td>4.000000e+03</td>\n      <td>0.000000</td>\n      <td>2.000000</td>\n      <td>500.000000</td>\n      <td>5.420000</td>\n      <td>0.000000</td>\n    </tr>\n    <tr>\n      <th>25%</th>\n      <td>23.000000</td>\n      <td>3.850000e+04</td>\n      <td>2.000000</td>\n      <td>3.000000</td>\n      <td>5000.000000</td>\n      <td>7.900000</td>\n      <td>0.090000</td>\n    </tr>\n    <tr>\n      <th>50%</th>\n      <td>26.000000</td>\n      <td>5.500000e+04</td>\n      <td>4.000000</td>\n      <td>4.000000</td>\n      <td>8000.000000</td>\n      <td>10.990000</td>\n      <td>0.150000</td>\n    </tr>\n    <tr>\n      <th>75%</th>\n      <td>30.000000</td>\n      <td>7.920000e+04</td>\n      <td>7.000000</td>\n      <td>8.000000</td>\n      <td>12200.000000</td>\n      <td>13.470000</td>\n      <td>0.230000</td>\n    </tr>\n    <tr>\n      <th>max</th>\n      <td>144.000000</td>\n      <td>6.000000e+06</td>\n      <td>123.000000</td>\n      <td>30.000000</td>\n      <td>35000.000000</td>\n      <td>23.220000</td>\n      <td>0.830000</td>\n    </tr>\n  </tbody>\n</table>\n</div>"
     },
     "metadata": {},
     "execution_count": 49
    }
   ],
   "source": [
    "df.describe()"
   ]
  },
  {
   "cell_type": "code",
   "execution_count": 50,
   "metadata": {
    "tags": []
   },
   "outputs": [
    {
     "output_type": "stream",
     "name": "stdout",
     "text": "<class 'pandas.core.frame.DataFrame'>\nInt64Index: 32581 entries, 0 to 32580\nData columns (total 12 columns):\n #   Column                      Non-Null Count  Dtype   \n---  ------                      --------------  -----   \n 0   cp_age                      32581 non-null  int64   \n 1   cp_income                   32581 non-null  int64   \n 2   cp_home_ownership           32581 non-null  category\n 3   cp_emp_length               31686 non-null  float64 \n 4   cp_person_default_on_file   32581 non-null  category\n 5   cp_person_cred_hist_length  32581 non-null  int64   \n 6   loan_intent                 32581 non-null  category\n 7   loan_grade                  32581 non-null  category\n 8   loan_amount                 32581 non-null  int64   \n 9   loan_int_rate               29465 non-null  float64 \n 10  loan_status                 32581 non-null  category\n 11  loan_percent_income         32581 non-null  float64 \ndtypes: category(5), float64(3), int64(4)\nmemory usage: 2.1 MB\n"
    }
   ],
   "source": [
    "df.info()"
   ]
  },
  {
   "cell_type": "code",
   "execution_count": 51,
   "metadata": {},
   "outputs": [
    {
     "output_type": "execute_result",
     "data": {
      "text/plain": "             cp_age     cp_income  cp_emp_length  cp_person_cred_hist_length  \\\ncount  32581.000000  3.258100e+04   31686.000000                32581.000000   \nmean      27.734600  6.607485e+04       4.789686                    5.804211   \nstd        6.348078  6.198312e+04       4.142630                    4.055001   \nmin       20.000000  4.000000e+03       0.000000                    2.000000   \n25%       23.000000  3.850000e+04       2.000000                    3.000000   \n50%       26.000000  5.500000e+04       4.000000                    4.000000   \n75%       30.000000  7.920000e+04       7.000000                    8.000000   \nmax      144.000000  6.000000e+06     123.000000                   30.000000   \n\n        loan_amount  loan_int_rate  loan_percent_income  \ncount  32581.000000   29465.000000         32581.000000  \nmean    9589.371106      11.011695             0.170203  \nstd     6322.086646       3.240459             0.106782  \nmin      500.000000       5.420000             0.000000  \n25%     5000.000000       7.900000             0.090000  \n50%     8000.000000      10.990000             0.150000  \n75%    12200.000000      13.470000             0.230000  \nmax    35000.000000      23.220000             0.830000  ",
      "text/html": "<div>\n<style scoped>\n    .dataframe tbody tr th:only-of-type {\n        vertical-align: middle;\n    }\n\n    .dataframe tbody tr th {\n        vertical-align: top;\n    }\n\n    .dataframe thead th {\n        text-align: right;\n    }\n</style>\n<table border=\"1\" class=\"dataframe\">\n  <thead>\n    <tr style=\"text-align: right;\">\n      <th></th>\n      <th>cp_age</th>\n      <th>cp_income</th>\n      <th>cp_emp_length</th>\n      <th>cp_person_cred_hist_length</th>\n      <th>loan_amount</th>\n      <th>loan_int_rate</th>\n      <th>loan_percent_income</th>\n    </tr>\n  </thead>\n  <tbody>\n    <tr>\n      <th>count</th>\n      <td>32581.000000</td>\n      <td>3.258100e+04</td>\n      <td>31686.000000</td>\n      <td>32581.000000</td>\n      <td>32581.000000</td>\n      <td>29465.000000</td>\n      <td>32581.000000</td>\n    </tr>\n    <tr>\n      <th>mean</th>\n      <td>27.734600</td>\n      <td>6.607485e+04</td>\n      <td>4.789686</td>\n      <td>5.804211</td>\n      <td>9589.371106</td>\n      <td>11.011695</td>\n      <td>0.170203</td>\n    </tr>\n    <tr>\n      <th>std</th>\n      <td>6.348078</td>\n      <td>6.198312e+04</td>\n      <td>4.142630</td>\n      <td>4.055001</td>\n      <td>6322.086646</td>\n      <td>3.240459</td>\n      <td>0.106782</td>\n    </tr>\n    <tr>\n      <th>min</th>\n      <td>20.000000</td>\n      <td>4.000000e+03</td>\n      <td>0.000000</td>\n      <td>2.000000</td>\n      <td>500.000000</td>\n      <td>5.420000</td>\n      <td>0.000000</td>\n    </tr>\n    <tr>\n      <th>25%</th>\n      <td>23.000000</td>\n      <td>3.850000e+04</td>\n      <td>2.000000</td>\n      <td>3.000000</td>\n      <td>5000.000000</td>\n      <td>7.900000</td>\n      <td>0.090000</td>\n    </tr>\n    <tr>\n      <th>50%</th>\n      <td>26.000000</td>\n      <td>5.500000e+04</td>\n      <td>4.000000</td>\n      <td>4.000000</td>\n      <td>8000.000000</td>\n      <td>10.990000</td>\n      <td>0.150000</td>\n    </tr>\n    <tr>\n      <th>75%</th>\n      <td>30.000000</td>\n      <td>7.920000e+04</td>\n      <td>7.000000</td>\n      <td>8.000000</td>\n      <td>12200.000000</td>\n      <td>13.470000</td>\n      <td>0.230000</td>\n    </tr>\n    <tr>\n      <th>max</th>\n      <td>144.000000</td>\n      <td>6.000000e+06</td>\n      <td>123.000000</td>\n      <td>30.000000</td>\n      <td>35000.000000</td>\n      <td>23.220000</td>\n      <td>0.830000</td>\n    </tr>\n  </tbody>\n</table>\n</div>"
     },
     "metadata": {},
     "execution_count": 51
    }
   ],
   "source": [
    "df.describe()"
   ]
  },
  {
   "cell_type": "markdown",
   "metadata": {},
   "source": [
    "As we have already seen before, there is presence of missing values for employment length and interest rates features. Moreover, the description of the dataset highlights some numbers for the counterparties that look suspicious and that require further analysis."
   ]
  },
  {
   "cell_type": "markdown",
   "metadata": {},
   "source": [
    "### (2.2) Removing inconsistencies from the data "
   ]
  },
  {
   "cell_type": "code",
   "execution_count": 52,
   "metadata": {},
   "outputs": [
    {
     "output_type": "execute_result",
     "data": {
      "text/plain": "       cp_age  cp_income cp_home_ownership  cp_emp_length  \\\n0          22      59000              RENT          123.0   \n81        144     250000              RENT            4.0   \n183       144     200000          MORTGAGE            4.0   \n210        21     192000          MORTGAGE          123.0   \n575       123      80004              RENT            2.0   \n747       123      78000              RENT            7.0   \n32297     144    6000000          MORTGAGE           12.0   \n\n      cp_person_default_on_file  cp_person_cred_hist_length loan_intent  \\\n0                             Y                           3    PERSONAL   \n81                            N                           3     VENTURE   \n183                           N                           2   EDUCATION   \n210                           N                           4     VENTURE   \n575                           N                           3   EDUCATION   \n747                           N                           4     VENTURE   \n32297                         N                          25    PERSONAL   \n\n      loan_grade  loan_amount  loan_int_rate loan_status  loan_percent_income  \n0              D        35000          16.02           1                 0.59  \n81             C         4800          13.57           0                 0.02  \n183            B         6000          11.86           0                 0.03  \n210            A        20000           6.54           0                 0.10  \n575            B        20400          10.25           0                 0.25  \n747            B        20000            NaN           0                 0.26  \n32297          C         5000          12.73           0                 0.00  ",
      "text/html": "<div>\n<style scoped>\n    .dataframe tbody tr th:only-of-type {\n        vertical-align: middle;\n    }\n\n    .dataframe tbody tr th {\n        vertical-align: top;\n    }\n\n    .dataframe thead th {\n        text-align: right;\n    }\n</style>\n<table border=\"1\" class=\"dataframe\">\n  <thead>\n    <tr style=\"text-align: right;\">\n      <th></th>\n      <th>cp_age</th>\n      <th>cp_income</th>\n      <th>cp_home_ownership</th>\n      <th>cp_emp_length</th>\n      <th>cp_person_default_on_file</th>\n      <th>cp_person_cred_hist_length</th>\n      <th>loan_intent</th>\n      <th>loan_grade</th>\n      <th>loan_amount</th>\n      <th>loan_int_rate</th>\n      <th>loan_status</th>\n      <th>loan_percent_income</th>\n    </tr>\n  </thead>\n  <tbody>\n    <tr>\n      <th>0</th>\n      <td>22</td>\n      <td>59000</td>\n      <td>RENT</td>\n      <td>123.0</td>\n      <td>Y</td>\n      <td>3</td>\n      <td>PERSONAL</td>\n      <td>D</td>\n      <td>35000</td>\n      <td>16.02</td>\n      <td>1</td>\n      <td>0.59</td>\n    </tr>\n    <tr>\n      <th>81</th>\n      <td>144</td>\n      <td>250000</td>\n      <td>RENT</td>\n      <td>4.0</td>\n      <td>N</td>\n      <td>3</td>\n      <td>VENTURE</td>\n      <td>C</td>\n      <td>4800</td>\n      <td>13.57</td>\n      <td>0</td>\n      <td>0.02</td>\n    </tr>\n    <tr>\n      <th>183</th>\n      <td>144</td>\n      <td>200000</td>\n      <td>MORTGAGE</td>\n      <td>4.0</td>\n      <td>N</td>\n      <td>2</td>\n      <td>EDUCATION</td>\n      <td>B</td>\n      <td>6000</td>\n      <td>11.86</td>\n      <td>0</td>\n      <td>0.03</td>\n    </tr>\n    <tr>\n      <th>210</th>\n      <td>21</td>\n      <td>192000</td>\n      <td>MORTGAGE</td>\n      <td>123.0</td>\n      <td>N</td>\n      <td>4</td>\n      <td>VENTURE</td>\n      <td>A</td>\n      <td>20000</td>\n      <td>6.54</td>\n      <td>0</td>\n      <td>0.10</td>\n    </tr>\n    <tr>\n      <th>575</th>\n      <td>123</td>\n      <td>80004</td>\n      <td>RENT</td>\n      <td>2.0</td>\n      <td>N</td>\n      <td>3</td>\n      <td>EDUCATION</td>\n      <td>B</td>\n      <td>20400</td>\n      <td>10.25</td>\n      <td>0</td>\n      <td>0.25</td>\n    </tr>\n    <tr>\n      <th>747</th>\n      <td>123</td>\n      <td>78000</td>\n      <td>RENT</td>\n      <td>7.0</td>\n      <td>N</td>\n      <td>4</td>\n      <td>VENTURE</td>\n      <td>B</td>\n      <td>20000</td>\n      <td>NaN</td>\n      <td>0</td>\n      <td>0.26</td>\n    </tr>\n    <tr>\n      <th>32297</th>\n      <td>144</td>\n      <td>6000000</td>\n      <td>MORTGAGE</td>\n      <td>12.0</td>\n      <td>N</td>\n      <td>25</td>\n      <td>PERSONAL</td>\n      <td>C</td>\n      <td>5000</td>\n      <td>12.73</td>\n      <td>0</td>\n      <td>0.00</td>\n    </tr>\n  </tbody>\n</table>\n</div>"
     },
     "metadata": {},
     "execution_count": 52
    }
   ],
   "source": [
    "# Retrieve the number of values which are not reasonable\n",
    "df_invalid = df[(df.cp_age > 100) | (df.cp_emp_length > 50)]\n",
    "\n",
    "# Retrieve how many observations we would drop\n",
    "num_invalid = df_invalid.shape[0]\n",
    "\n",
    "# Get a sense of the data to be dropped\n",
    "df_invalid"
   ]
  },
  {
   "cell_type": "code",
   "execution_count": 53,
   "metadata": {},
   "outputs": [
    {
     "output_type": "execute_result",
     "data": {
      "text/plain": "             cp_age     cp_income  cp_emp_length  cp_person_cred_hist_length  \\\ncount  32574.000000  3.257400e+04   31679.000000                32574.000000   \nmean      27.718426  6.587848e+04       4.782064                    5.804108   \nstd        6.204987  5.253194e+04       4.034948                    4.053873   \nmin       20.000000  4.000000e+03       0.000000                    2.000000   \n25%       23.000000  3.850000e+04       2.000000                    3.000000   \n50%       26.000000  5.500000e+04       4.000000                    4.000000   \n75%       30.000000  7.920000e+04       7.000000                    8.000000   \nmax       94.000000  2.039784e+06      41.000000                   30.000000   \n\n        loan_amount  loan_int_rate  loan_percent_income  \ncount  32574.000000   29459.000000         32574.000000  \nmean    9588.018051      11.011529             0.170202  \nstd     6320.249598       3.240497             0.106755  \nmin      500.000000       5.420000             0.000000  \n25%     5000.000000       7.900000             0.090000  \n50%     8000.000000      10.990000             0.150000  \n75%    12200.000000      13.470000             0.230000  \nmax    35000.000000      23.220000             0.830000  ",
      "text/html": "<div>\n<style scoped>\n    .dataframe tbody tr th:only-of-type {\n        vertical-align: middle;\n    }\n\n    .dataframe tbody tr th {\n        vertical-align: top;\n    }\n\n    .dataframe thead th {\n        text-align: right;\n    }\n</style>\n<table border=\"1\" class=\"dataframe\">\n  <thead>\n    <tr style=\"text-align: right;\">\n      <th></th>\n      <th>cp_age</th>\n      <th>cp_income</th>\n      <th>cp_emp_length</th>\n      <th>cp_person_cred_hist_length</th>\n      <th>loan_amount</th>\n      <th>loan_int_rate</th>\n      <th>loan_percent_income</th>\n    </tr>\n  </thead>\n  <tbody>\n    <tr>\n      <th>count</th>\n      <td>32574.000000</td>\n      <td>3.257400e+04</td>\n      <td>31679.000000</td>\n      <td>32574.000000</td>\n      <td>32574.000000</td>\n      <td>29459.000000</td>\n      <td>32574.000000</td>\n    </tr>\n    <tr>\n      <th>mean</th>\n      <td>27.718426</td>\n      <td>6.587848e+04</td>\n      <td>4.782064</td>\n      <td>5.804108</td>\n      <td>9588.018051</td>\n      <td>11.011529</td>\n      <td>0.170202</td>\n    </tr>\n    <tr>\n      <th>std</th>\n      <td>6.204987</td>\n      <td>5.253194e+04</td>\n      <td>4.034948</td>\n      <td>4.053873</td>\n      <td>6320.249598</td>\n      <td>3.240497</td>\n      <td>0.106755</td>\n    </tr>\n    <tr>\n      <th>min</th>\n      <td>20.000000</td>\n      <td>4.000000e+03</td>\n      <td>0.000000</td>\n      <td>2.000000</td>\n      <td>500.000000</td>\n      <td>5.420000</td>\n      <td>0.000000</td>\n    </tr>\n    <tr>\n      <th>25%</th>\n      <td>23.000000</td>\n      <td>3.850000e+04</td>\n      <td>2.000000</td>\n      <td>3.000000</td>\n      <td>5000.000000</td>\n      <td>7.900000</td>\n      <td>0.090000</td>\n    </tr>\n    <tr>\n      <th>50%</th>\n      <td>26.000000</td>\n      <td>5.500000e+04</td>\n      <td>4.000000</td>\n      <td>4.000000</td>\n      <td>8000.000000</td>\n      <td>10.990000</td>\n      <td>0.150000</td>\n    </tr>\n    <tr>\n      <th>75%</th>\n      <td>30.000000</td>\n      <td>7.920000e+04</td>\n      <td>7.000000</td>\n      <td>8.000000</td>\n      <td>12200.000000</td>\n      <td>13.470000</td>\n      <td>0.230000</td>\n    </tr>\n    <tr>\n      <th>max</th>\n      <td>94.000000</td>\n      <td>2.039784e+06</td>\n      <td>41.000000</td>\n      <td>30.000000</td>\n      <td>35000.000000</td>\n      <td>23.220000</td>\n      <td>0.830000</td>\n    </tr>\n  </tbody>\n</table>\n</div>"
     },
     "metadata": {},
     "execution_count": 53
    }
   ],
   "source": [
    "# Dropping absurd values from the dataset\n",
    "df.drop(index=df_invalid.index,inplace=True)\n",
    "\n",
    "# See whether the number makes sense now\n",
    "df.describe()"
   ]
  },
  {
   "cell_type": "markdown",
   "metadata": {},
   "source": [
    "Now numbers seems to be reasonably in range. Although we still have presence of missing values, we will proceed with some visualization techniques to enrich our analysis and see whether we can find hidden patterns in the data"
   ]
  },
  {
   "cell_type": "markdown",
   "metadata": {},
   "source": [
    "### (2.3) Dropping null values"
   ]
  },
  {
   "cell_type": "code",
   "execution_count": 54,
   "metadata": {},
   "outputs": [
    {
     "output_type": "execute_result",
     "data": {
      "text/plain": "loan_int_rate                 3115\ncp_emp_length                  895\nloan_percent_income              0\nloan_status                      0\nloan_amount                      0\nloan_grade                       0\nloan_intent                      0\ncp_person_cred_hist_length       0\ncp_person_default_on_file        0\ncp_home_ownership                0\ncp_income                        0\ncp_age                           0\ndtype: int64"
     },
     "metadata": {},
     "execution_count": 54
    }
   ],
   "source": [
    "df.isnull().sum().sort_values(ascending=False)"
   ]
  },
  {
   "cell_type": "code",
   "execution_count": 55,
   "metadata": {},
   "outputs": [],
   "source": [
    "df_analysis = df.dropna()"
   ]
  },
  {
   "cell_type": "code",
   "execution_count": 56,
   "metadata": {},
   "outputs": [
    {
     "output_type": "execute_result",
     "data": {
      "text/plain": "             cp_age     cp_income  cp_emp_length  cp_person_cred_hist_length  \\\ncount  28632.000000  2.863200e+04   28632.000000                28632.000000   \nmean      27.712140  6.642651e+04       4.780316                    5.793553   \nstd        6.171989  5.154746e+04       4.035616                    4.037133   \nmin       20.000000  4.000000e+03       0.000000                    2.000000   \n25%       23.000000  3.945600e+04       2.000000                    3.000000   \n50%       26.000000  5.590000e+04       4.000000                    4.000000   \n75%       30.000000  8.000000e+04       7.000000                    8.000000   \nmax       84.000000  2.039784e+06      41.000000                   30.000000   \n\n        loan_amount  loan_int_rate  loan_percent_income  \ncount  28632.000000   28632.000000         28632.000000  \nmean    9655.331447      11.039701             0.169489  \nstd     6327.798706       3.229409             0.106361  \nmin      500.000000       5.420000             0.000000  \n25%     5000.000000       7.900000             0.090000  \n50%     8000.000000      10.990000             0.150000  \n75%    12500.000000      13.480000             0.230000  \nmax    35000.000000      23.220000             0.830000  ",
      "text/html": "<div>\n<style scoped>\n    .dataframe tbody tr th:only-of-type {\n        vertical-align: middle;\n    }\n\n    .dataframe tbody tr th {\n        vertical-align: top;\n    }\n\n    .dataframe thead th {\n        text-align: right;\n    }\n</style>\n<table border=\"1\" class=\"dataframe\">\n  <thead>\n    <tr style=\"text-align: right;\">\n      <th></th>\n      <th>cp_age</th>\n      <th>cp_income</th>\n      <th>cp_emp_length</th>\n      <th>cp_person_cred_hist_length</th>\n      <th>loan_amount</th>\n      <th>loan_int_rate</th>\n      <th>loan_percent_income</th>\n    </tr>\n  </thead>\n  <tbody>\n    <tr>\n      <th>count</th>\n      <td>28632.000000</td>\n      <td>2.863200e+04</td>\n      <td>28632.000000</td>\n      <td>28632.000000</td>\n      <td>28632.000000</td>\n      <td>28632.000000</td>\n      <td>28632.000000</td>\n    </tr>\n    <tr>\n      <th>mean</th>\n      <td>27.712140</td>\n      <td>6.642651e+04</td>\n      <td>4.780316</td>\n      <td>5.793553</td>\n      <td>9655.331447</td>\n      <td>11.039701</td>\n      <td>0.169489</td>\n    </tr>\n    <tr>\n      <th>std</th>\n      <td>6.171989</td>\n      <td>5.154746e+04</td>\n      <td>4.035616</td>\n      <td>4.037133</td>\n      <td>6327.798706</td>\n      <td>3.229409</td>\n      <td>0.106361</td>\n    </tr>\n    <tr>\n      <th>min</th>\n      <td>20.000000</td>\n      <td>4.000000e+03</td>\n      <td>0.000000</td>\n      <td>2.000000</td>\n      <td>500.000000</td>\n      <td>5.420000</td>\n      <td>0.000000</td>\n    </tr>\n    <tr>\n      <th>25%</th>\n      <td>23.000000</td>\n      <td>3.945600e+04</td>\n      <td>2.000000</td>\n      <td>3.000000</td>\n      <td>5000.000000</td>\n      <td>7.900000</td>\n      <td>0.090000</td>\n    </tr>\n    <tr>\n      <th>50%</th>\n      <td>26.000000</td>\n      <td>5.590000e+04</td>\n      <td>4.000000</td>\n      <td>4.000000</td>\n      <td>8000.000000</td>\n      <td>10.990000</td>\n      <td>0.150000</td>\n    </tr>\n    <tr>\n      <th>75%</th>\n      <td>30.000000</td>\n      <td>8.000000e+04</td>\n      <td>7.000000</td>\n      <td>8.000000</td>\n      <td>12500.000000</td>\n      <td>13.480000</td>\n      <td>0.230000</td>\n    </tr>\n    <tr>\n      <th>max</th>\n      <td>84.000000</td>\n      <td>2.039784e+06</td>\n      <td>41.000000</td>\n      <td>30.000000</td>\n      <td>35000.000000</td>\n      <td>23.220000</td>\n      <td>0.830000</td>\n    </tr>\n  </tbody>\n</table>\n</div>"
     },
     "metadata": {},
     "execution_count": 56
    }
   ],
   "source": [
    "df_analysis.describe()"
   ]
  },
  {
   "cell_type": "markdown",
   "metadata": {},
   "source": [
    "# (3) Data exploration and visualization for richer insights"
   ]
  },
  {
   "cell_type": "code",
   "execution_count": null,
   "metadata": {},
   "outputs": [],
   "source": [
    "# Description of the dataset\n",
    "df.head()"
   ]
  },
  {
   "cell_type": "code",
   "execution_count": null,
   "metadata": {},
   "outputs": [],
   "source": [
    "# mapping defaulted on file into 0-1 variables\n",
    "mapping_defaulted = {\n",
    "    \"Y\":1,\n",
    "    \"N\":0\n",
    "}\n",
    "# modify the dataframe to respect this convention\n",
    "df.loc[:,'cb_person_default_on_file'] = df.cb_person_default_on_file.map(mapping_defaulted)\n",
    "\n",
    "# assert \n",
    "assert not np.any((df.cb_person_default_on_file == \"N\") & (df.cb_person_default_on_file == \"Y\"))"
   ]
  },
  {
   "cell_type": "code",
   "execution_count": null,
   "metadata": {},
   "outputs": [],
   "source": [
    "df.head()"
   ]
  },
  {
   "cell_type": "code",
   "execution_count": null,
   "metadata": {
    "tags": []
   },
   "outputs": [],
   "source": [
    "# Define function for plotting\n",
    "def sns_plot(*plot_args):\n",
    "\n",
    "    # Settings\n",
    "    plt.figure(figsize=(12,7))\n",
    "    plot_dict = plot_args[0]\n",
    "    df_plot = plot_dict[\"df\"]\n",
    "    x = plot_dict[\"x\"]\n",
    "    y = plot_dict[\"y\"]\n",
    "    plot_options = plot_dict[\"plot_options\"]\n",
    "\n",
    "    # Differentiate between graphs\n",
    "\n",
    "    if plot_options[\"kind\"] == \"bar\":\n",
    "        g = sns.barplot(x=x, y=y, data=df_plot, palette=plot_options[\"palette\"])\n",
    "    elif plot_options[\"kind\"] == \"count\":\n",
    "        g = sns.countplot(x=x,hue=plot_options[\"hue\"],palette=plot_options[\"palette\"],order=plot_options[\"order\"])\n",
    "        g.legend(loc=\"upper left\")\n",
    "    elif plot_options[\"kind\"] == \"scatter\":\n",
    "        # g = sns.scatterplot()\n",
    "        pass\n",
    "    elif plot_options[\"kind\"] == \"violin\":\n",
    "        g = sns.violinplot(data=df_plot, x=x, y=y, hue=plot_options[\"hue\"],inner=\"quart\",split=True)\n",
    "    else:\n",
    "        raise Exception(\"Not a valid graph option\")\n",
    "\n",
    "    # Options shared for each graph\n",
    "    for p in g.patches:\n",
    "        g.annotate(int(p.get_height()), (p.get_x() + p.get_width()/2, p.get_height()), ha='center', va='center', xytext=(0,10), textcoords = 'offset points')\n",
    "    g.set_title(plot_options[\"title\"],fontsize=20)\n",
    "    g.set_xlabel(plot_options[\"x_label\"],fontsize=16)\n",
    "    g.set_ylabel(plot_options[\"y_label\"],fontsize=16)\n",
    "\n",
    "    # if plot_dict[\"kind\"] not in (\"bar,count,pie\"):\n",
    "    #     print(\"Not what we would like to have here\")\n",
    "    # elif kind == \"bar\":\n",
    "    #     g = sns_\n",
    "\n",
    "# TRIAL 1\n",
    "# grade_df = df_cp_loans.groupby(['loan_grade'])['loan_int_rate'].mean().sort_values(ascending=True).reset_index()\n",
    "\n",
    "# plot_args = {\n",
    "#     \"df\": grade_df,\n",
    "#     \"x\": \"loan_grade\",\n",
    "#     \"y\": \"loan_int_rate\", \n",
    "#     \"plot_options\": {\n",
    "#         \"kind\": \"bar\",\n",
    "#         \"title\": \"Average interest rate per rating\",\n",
    "#         \"x_label\": \"Rating\",\n",
    "#         \"y_label\": \"Interest rate\",\n",
    "#         \"palette\":\"Blues\"\n",
    "#     }\n",
    "# }\n",
    "\n",
    "plot_args = {\n",
    "    \"df\": df,\n",
    "    \"x\": \"loan_grade\",\n",
    "    \"y\": \"loan_int_rate\", \n",
    "    \"plot_options\": {\n",
    "        \"kind\": \"violin\",\n",
    "        \"hue\": \"loan_status\",\n",
    "        \"title\": \"Distribution of loan amount per rating in case of default or not\",\n",
    "        \"x_label\": \"Rating\",\n",
    "        \"y_label\": \"Interest rate\",\n",
    "        \"palette\": {1: \"Defaulted\", 0: \"Not defaulted\"}\n",
    "    }\n",
    "}\n",
    "\n",
    "sns_plot(plot_args)  \n",
    "\n",
    "## TRIAL 1\n",
    "# grade_df = df_cp_loans.groupby(['loan_grade'])['loan_int_rate'].mean().plot(kind='bar')\n",
    "# plot_args = {\n",
    "#     \"kind\": \"bar\",\n",
    "#     \"title\": \"Average interest rate per rating\",\n",
    "#     \"x_label\": \"Rating\",\n",
    "#     \"y_label\": \"Interest rate\"\n",
    "# }\n"
   ]
  },
  {
   "cell_type": "code",
   "execution_count": null,
   "metadata": {},
   "outputs": [],
   "source": [
    "#df_cp_loans."
   ]
  },
  {
   "cell_type": "code",
   "execution_count": null,
   "metadata": {},
   "outputs": [],
   "source": [
    "df_cp_loans.groupby(['loan_grade','loan_status'])['loan_status'].count().plot(kind='bar')"
   ]
  }
 ],
 "metadata": {
  "language_info": {
   "codemirror_mode": {
    "name": "ipython",
    "version": 3
   },
   "file_extension": ".py",
   "mimetype": "text/x-python",
   "name": "python",
   "nbconvert_exporter": "python",
   "pygments_lexer": "ipython3",
   "version": 3
  },
  "orig_nbformat": 2,
  "kernelspec": {
   "name": "python_defaultSpec_1596354909092",
   "display_name": "Python 3.8.4 64-bit"
  }
 },
 "nbformat": 4,
 "nbformat_minor": 2
}