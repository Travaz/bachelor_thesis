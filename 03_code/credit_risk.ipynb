{
 "cells": [
  {
   "cell_type": "markdown",
   "metadata": {},
   "source": [
    "# Bachelor Thesis - Credit Risk"
   ]
  },
  {
   "cell_type": "code",
   "execution_count": 1,
   "metadata": {},
   "outputs": [],
   "source": [
    "# loading dataset\n",
    "import pandas as pd \n",
    "df_cr = pd.read_csv(\"data\\credit_risk_loans_data.csv\")"
   ]
  },
  {
   "cell_type": "code",
   "execution_count": 7,
   "metadata": {},
   "outputs": [
    {
     "output_type": "execute_result",
     "data": {
      "text/plain": "   person_age  person_income person_home_ownership  person_emp_length  \\\n0          22          59000                  RENT              123.0   \n1          21           9600                   OWN                5.0   \n2          25           9600              MORTGAGE                1.0   \n3          23          65500                  RENT                4.0   \n4          24          54400                  RENT                8.0   \n\n  loan_intent loan_grade  loan_amnt  loan_int_rate  loan_status  \\\n0    PERSONAL          D      35000          16.02            1   \n1   EDUCATION          B       1000          11.14            0   \n2     MEDICAL          C       5500          12.87            1   \n3     MEDICAL          C      35000          15.23            1   \n4     MEDICAL          C      35000          14.27            1   \n\n   loan_percent_income cb_person_default_on_file  cb_person_cred_hist_length  \n0                 0.59                         Y                           3  \n1                 0.10                         N                           2  \n2                 0.57                         N                           3  \n3                 0.53                         N                           2  \n4                 0.55                         Y                           4  ",
      "text/html": "<div>\n<style scoped>\n    .dataframe tbody tr th:only-of-type {\n        vertical-align: middle;\n    }\n\n    .dataframe tbody tr th {\n        vertical-align: top;\n    }\n\n    .dataframe thead th {\n        text-align: right;\n    }\n</style>\n<table border=\"1\" class=\"dataframe\">\n  <thead>\n    <tr style=\"text-align: right;\">\n      <th></th>\n      <th>person_age</th>\n      <th>person_income</th>\n      <th>person_home_ownership</th>\n      <th>person_emp_length</th>\n      <th>loan_intent</th>\n      <th>loan_grade</th>\n      <th>loan_amnt</th>\n      <th>loan_int_rate</th>\n      <th>loan_status</th>\n      <th>loan_percent_income</th>\n      <th>cb_person_default_on_file</th>\n      <th>cb_person_cred_hist_length</th>\n    </tr>\n  </thead>\n  <tbody>\n    <tr>\n      <th>0</th>\n      <td>22</td>\n      <td>59000</td>\n      <td>RENT</td>\n      <td>123.0</td>\n      <td>PERSONAL</td>\n      <td>D</td>\n      <td>35000</td>\n      <td>16.02</td>\n      <td>1</td>\n      <td>0.59</td>\n      <td>Y</td>\n      <td>3</td>\n    </tr>\n    <tr>\n      <th>1</th>\n      <td>21</td>\n      <td>9600</td>\n      <td>OWN</td>\n      <td>5.0</td>\n      <td>EDUCATION</td>\n      <td>B</td>\n      <td>1000</td>\n      <td>11.14</td>\n      <td>0</td>\n      <td>0.10</td>\n      <td>N</td>\n      <td>2</td>\n    </tr>\n    <tr>\n      <th>2</th>\n      <td>25</td>\n      <td>9600</td>\n      <td>MORTGAGE</td>\n      <td>1.0</td>\n      <td>MEDICAL</td>\n      <td>C</td>\n      <td>5500</td>\n      <td>12.87</td>\n      <td>1</td>\n      <td>0.57</td>\n      <td>N</td>\n      <td>3</td>\n    </tr>\n    <tr>\n      <th>3</th>\n      <td>23</td>\n      <td>65500</td>\n      <td>RENT</td>\n      <td>4.0</td>\n      <td>MEDICAL</td>\n      <td>C</td>\n      <td>35000</td>\n      <td>15.23</td>\n      <td>1</td>\n      <td>0.53</td>\n      <td>N</td>\n      <td>2</td>\n    </tr>\n    <tr>\n      <th>4</th>\n      <td>24</td>\n      <td>54400</td>\n      <td>RENT</td>\n      <td>8.0</td>\n      <td>MEDICAL</td>\n      <td>C</td>\n      <td>35000</td>\n      <td>14.27</td>\n      <td>1</td>\n      <td>0.55</td>\n      <td>Y</td>\n      <td>4</td>\n    </tr>\n  </tbody>\n</table>\n</div>"
     },
     "metadata": {},
     "execution_count": 7
    }
   ],
   "source": [
    "# Reading first lines\n",
    "df_cr.head()"
   ]
  },
  {
   "cell_type": "code",
   "execution_count": 8,
   "metadata": {},
   "outputs": [
    {
     "output_type": "execute_result",
     "data": {
      "text/plain": "       person_age  person_income person_home_ownership  person_emp_length  \\\n32576          57          53000              MORTGAGE                1.0   \n32577          54         120000              MORTGAGE                4.0   \n32578          65          76000                  RENT                3.0   \n32579          56         150000              MORTGAGE                5.0   \n32580          66          42000                  RENT                2.0   \n\n           loan_intent loan_grade  loan_amnt  loan_int_rate  loan_status  \\\n32576         PERSONAL          C       5800          13.16            0   \n32577         PERSONAL          A      17625           7.49            0   \n32578  HOMEIMPROVEMENT          B      35000          10.99            1   \n32579         PERSONAL          B      15000          11.48            0   \n32580          MEDICAL          B       6475           9.99            0   \n\n       loan_percent_income cb_person_default_on_file  \\\n32576                 0.11                         N   \n32577                 0.15                         N   \n32578                 0.46                         N   \n32579                 0.10                         N   \n32580                 0.15                         N   \n\n       cb_person_cred_hist_length  \n32576                          30  \n32577                          19  \n32578                          28  \n32579                          26  \n32580                          30  ",
      "text/html": "<div>\n<style scoped>\n    .dataframe tbody tr th:only-of-type {\n        vertical-align: middle;\n    }\n\n    .dataframe tbody tr th {\n        vertical-align: top;\n    }\n\n    .dataframe thead th {\n        text-align: right;\n    }\n</style>\n<table border=\"1\" class=\"dataframe\">\n  <thead>\n    <tr style=\"text-align: right;\">\n      <th></th>\n      <th>person_age</th>\n      <th>person_income</th>\n      <th>person_home_ownership</th>\n      <th>person_emp_length</th>\n      <th>loan_intent</th>\n      <th>loan_grade</th>\n      <th>loan_amnt</th>\n      <th>loan_int_rate</th>\n      <th>loan_status</th>\n      <th>loan_percent_income</th>\n      <th>cb_person_default_on_file</th>\n      <th>cb_person_cred_hist_length</th>\n    </tr>\n  </thead>\n  <tbody>\n    <tr>\n      <th>32576</th>\n      <td>57</td>\n      <td>53000</td>\n      <td>MORTGAGE</td>\n      <td>1.0</td>\n      <td>PERSONAL</td>\n      <td>C</td>\n      <td>5800</td>\n      <td>13.16</td>\n      <td>0</td>\n      <td>0.11</td>\n      <td>N</td>\n      <td>30</td>\n    </tr>\n    <tr>\n      <th>32577</th>\n      <td>54</td>\n      <td>120000</td>\n      <td>MORTGAGE</td>\n      <td>4.0</td>\n      <td>PERSONAL</td>\n      <td>A</td>\n      <td>17625</td>\n      <td>7.49</td>\n      <td>0</td>\n      <td>0.15</td>\n      <td>N</td>\n      <td>19</td>\n    </tr>\n    <tr>\n      <th>32578</th>\n      <td>65</td>\n      <td>76000</td>\n      <td>RENT</td>\n      <td>3.0</td>\n      <td>HOMEIMPROVEMENT</td>\n      <td>B</td>\n      <td>35000</td>\n      <td>10.99</td>\n      <td>1</td>\n      <td>0.46</td>\n      <td>N</td>\n      <td>28</td>\n    </tr>\n    <tr>\n      <th>32579</th>\n      <td>56</td>\n      <td>150000</td>\n      <td>MORTGAGE</td>\n      <td>5.0</td>\n      <td>PERSONAL</td>\n      <td>B</td>\n      <td>15000</td>\n      <td>11.48</td>\n      <td>0</td>\n      <td>0.10</td>\n      <td>N</td>\n      <td>26</td>\n    </tr>\n    <tr>\n      <th>32580</th>\n      <td>66</td>\n      <td>42000</td>\n      <td>RENT</td>\n      <td>2.0</td>\n      <td>MEDICAL</td>\n      <td>B</td>\n      <td>6475</td>\n      <td>9.99</td>\n      <td>0</td>\n      <td>0.15</td>\n      <td>N</td>\n      <td>30</td>\n    </tr>\n  </tbody>\n</table>\n</div>"
     },
     "metadata": {},
     "execution_count": 8
    }
   ],
   "source": [
    "# Reading ending lines\n",
    "df_cr.tail()"
   ]
  },
  {
   "cell_type": "code",
   "execution_count": 9,
   "metadata": {},
   "outputs": [
    {
     "output_type": "execute_result",
     "data": {
      "text/plain": "         person_age  person_income  person_emp_length     loan_amnt  \\\ncount  32581.000000   3.258100e+04       31686.000000  32581.000000   \nmean      27.734600   6.607485e+04           4.789686   9589.371106   \nstd        6.348078   6.198312e+04           4.142630   6322.086646   \nmin       20.000000   4.000000e+03           0.000000    500.000000   \n25%       23.000000   3.850000e+04           2.000000   5000.000000   \n50%       26.000000   5.500000e+04           4.000000   8000.000000   \n75%       30.000000   7.920000e+04           7.000000  12200.000000   \nmax      144.000000   6.000000e+06         123.000000  35000.000000   \n\n       loan_int_rate   loan_status  loan_percent_income  \\\ncount   29465.000000  32581.000000         32581.000000   \nmean       11.011695      0.218164             0.170203   \nstd         3.240459      0.413006             0.106782   \nmin         5.420000      0.000000             0.000000   \n25%         7.900000      0.000000             0.090000   \n50%        10.990000      0.000000             0.150000   \n75%        13.470000      0.000000             0.230000   \nmax        23.220000      1.000000             0.830000   \n\n       cb_person_cred_hist_length  \ncount                32581.000000  \nmean                     5.804211  \nstd                      4.055001  \nmin                      2.000000  \n25%                      3.000000  \n50%                      4.000000  \n75%                      8.000000  \nmax                     30.000000  ",
      "text/html": "<div>\n<style scoped>\n    .dataframe tbody tr th:only-of-type {\n        vertical-align: middle;\n    }\n\n    .dataframe tbody tr th {\n        vertical-align: top;\n    }\n\n    .dataframe thead th {\n        text-align: right;\n    }\n</style>\n<table border=\"1\" class=\"dataframe\">\n  <thead>\n    <tr style=\"text-align: right;\">\n      <th></th>\n      <th>person_age</th>\n      <th>person_income</th>\n      <th>person_emp_length</th>\n      <th>loan_amnt</th>\n      <th>loan_int_rate</th>\n      <th>loan_status</th>\n      <th>loan_percent_income</th>\n      <th>cb_person_cred_hist_length</th>\n    </tr>\n  </thead>\n  <tbody>\n    <tr>\n      <th>count</th>\n      <td>32581.000000</td>\n      <td>3.258100e+04</td>\n      <td>31686.000000</td>\n      <td>32581.000000</td>\n      <td>29465.000000</td>\n      <td>32581.000000</td>\n      <td>32581.000000</td>\n      <td>32581.000000</td>\n    </tr>\n    <tr>\n      <th>mean</th>\n      <td>27.734600</td>\n      <td>6.607485e+04</td>\n      <td>4.789686</td>\n      <td>9589.371106</td>\n      <td>11.011695</td>\n      <td>0.218164</td>\n      <td>0.170203</td>\n      <td>5.804211</td>\n    </tr>\n    <tr>\n      <th>std</th>\n      <td>6.348078</td>\n      <td>6.198312e+04</td>\n      <td>4.142630</td>\n      <td>6322.086646</td>\n      <td>3.240459</td>\n      <td>0.413006</td>\n      <td>0.106782</td>\n      <td>4.055001</td>\n    </tr>\n    <tr>\n      <th>min</th>\n      <td>20.000000</td>\n      <td>4.000000e+03</td>\n      <td>0.000000</td>\n      <td>500.000000</td>\n      <td>5.420000</td>\n      <td>0.000000</td>\n      <td>0.000000</td>\n      <td>2.000000</td>\n    </tr>\n    <tr>\n      <th>25%</th>\n      <td>23.000000</td>\n      <td>3.850000e+04</td>\n      <td>2.000000</td>\n      <td>5000.000000</td>\n      <td>7.900000</td>\n      <td>0.000000</td>\n      <td>0.090000</td>\n      <td>3.000000</td>\n    </tr>\n    <tr>\n      <th>50%</th>\n      <td>26.000000</td>\n      <td>5.500000e+04</td>\n      <td>4.000000</td>\n      <td>8000.000000</td>\n      <td>10.990000</td>\n      <td>0.000000</td>\n      <td>0.150000</td>\n      <td>4.000000</td>\n    </tr>\n    <tr>\n      <th>75%</th>\n      <td>30.000000</td>\n      <td>7.920000e+04</td>\n      <td>7.000000</td>\n      <td>12200.000000</td>\n      <td>13.470000</td>\n      <td>0.000000</td>\n      <td>0.230000</td>\n      <td>8.000000</td>\n    </tr>\n    <tr>\n      <th>max</th>\n      <td>144.000000</td>\n      <td>6.000000e+06</td>\n      <td>123.000000</td>\n      <td>35000.000000</td>\n      <td>23.220000</td>\n      <td>1.000000</td>\n      <td>0.830000</td>\n      <td>30.000000</td>\n    </tr>\n  </tbody>\n</table>\n</div>"
     },
     "metadata": {},
     "execution_count": 9
    }
   ],
   "source": [
    "# Get some statistics\n",
    "df_cr.describe()"
   ]
  },
  {
   "cell_type": "code",
   "execution_count": null,
   "metadata": {},
   "outputs": [],
   "source": []
  }
 ],
 "metadata": {
  "language_info": {
   "codemirror_mode": {
    "name": "ipython",
    "version": 3
   },
   "file_extension": ".py",
   "mimetype": "text/x-python",
   "name": "python",
   "nbconvert_exporter": "python",
   "pygments_lexer": "ipython3",
   "version": 3
  },
  "orig_nbformat": 2,
  "kernelspec": {
   "name": "python_defaultSpec_1595098660137",
   "display_name": "Python 3.8.4 64-bit"
  }
 },
 "nbformat": 4,
 "nbformat_minor": 2
}